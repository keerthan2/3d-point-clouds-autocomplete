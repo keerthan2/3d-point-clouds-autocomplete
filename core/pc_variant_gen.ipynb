{
 "cells": [
  {
   "cell_type": "code",
   "execution_count": 1,
   "metadata": {},
   "outputs": [
    {
     "name": "stdout",
     "output_type": "stream",
     "text": [
      "Jupyter environment detected. Enabling Open3D WebVisualizer.\n",
      "[Open3D INFO] WebRTC GUI backend enabled.\n",
      "[Open3D INFO] WebRTCWindowSystem: HTTP handshake server disabled.\n"
     ]
    }
   ],
   "source": [
    "import open3d as o3d\n",
    "import numpy as np\n",
    "import math\n",
    "from scipy.spatial import Delaunay\n",
    "import matplotlib.pyplot as plt\n",
    "import math\n",
    "from functools import reduce\n",
    "import os\n",
    "\n",
    "import sys\n",
    "sys.path.append('../')"
   ]
  },
  {
   "cell_type": "code",
   "execution_count": 32,
   "metadata": {},
   "outputs": [],
   "source": [
    "pc_path = os.path.join('..','data','dataset','custom','train','heap_example.ply')\n",
    "pc_path = 'existing.ply'\n",
    "pcd = o3d.io.read_point_cloud(pc_path)\n",
    "# pcd.transform([[1, 0, 0, 0], [0, -1, 0, 0], [0, 0, -1, 0], [0, 0, 0, 1]])\n",
    "axes = o3d.geometry.TriangleMesh.create_coordinate_frame()"
   ]
  },
  {
   "cell_type": "code",
   "execution_count": 33,
   "metadata": {},
   "outputs": [],
   "source": [
    "o3d.visualization.draw_geometries([pcd, axes])"
   ]
  },
  {
   "cell_type": "markdown",
   "metadata": {},
   "source": [
    "# Generating variants"
   ]
  },
  {
   "cell_type": "code",
   "execution_count": 298,
   "metadata": {},
   "outputs": [],
   "source": [
    "def gen_single_pcd_variant(pc_path, axis = 1, max_mode = \"max\", margin = 0.01):\n",
    "    pcd = o3d.io.read_point_cloud(pc_path)\n",
    "    pcd_pts =  np.asarray(pcd.points)\n",
    "    base_min = np.min(pcd_pts[:,axis])\n",
    "    if max_mode == \"min\":\n",
    "        if base_min < 0:\n",
    "            base_max = -margin*abs(base_min)\n",
    "        else:\n",
    "            base_max = (1+margin)*base_min\n",
    "    else:\n",
    "        base_max = abs(np.random.randn())*np.max(pcd_pts[:,axis])\n",
    "    base_idx = np.where((pcd_pts[:,axis] >= base_min) & (pcd_pts[:,axis] <= base_max))[0]\n",
    "    base_pts = pcd_pts[base_idx,:]\n",
    "\n",
    "    mean_x, std_x = np.random.randint(low=1,high=16)*np.mean(base_pts[:,0]), max(0.5,abs(0.5*np.random.randn()))*np.std(base_pts[:,0])\n",
    "    mean_y, std_y = 2.0*np.mean(base_pts[:,1]), 0.01*np.std(base_pts[:,1])\n",
    "    mean_z, std_z = np.random.randint(low=1,high=16)*np.mean(base_pts[:,2]), max(0.5,abs(0.5*np.random.randn()))*np.std(base_pts[:,2])\n",
    "\n",
    "    noise_x = mean_x + std_x*np.random.randn(base_pts[:,0].shape[0])\n",
    "    noise_y = 0 #+ mean_y + std_z*np.random.randn(base_pts[:,0].shape[0])\n",
    "    noise_z = mean_z + std_z*np.random.randn(base_pts[:,0].shape[0])\n",
    "\n",
    "    base_pts_noise = np.zeros_like(base_pts)\n",
    "    base_pts_noise[:,0] =  base_pts[:,0] + noise_x\n",
    "    base_pts_noise[:,1] =  base_pts[:,1] + noise_y\n",
    "    base_pts_noise[:,2] =  base_pts[:,2] + noise_z\n",
    "\n",
    "    pcd_pts[base_idx,:] = base_pts_noise\n",
    "    pcd_noise = o3d.geometry.PointCloud()\n",
    "    pcd_noise.points = o3d.utility.Vector3dVector(pcd_pts)\n",
    "    \n",
    "    return pcd_noise\n",
    "\n",
    "def gen_pcd_variants(pc_path, num_variants = 5, axis = 1, max_mode = \"max\", margin = 0.01):\n",
    "    pcd_variants = []\n",
    "    for i in range(num_variants):\n",
    "        pcd_variant = gen_single_pcd_variant(pc_path, axis = axis, max_mode = max_mode, margin = margin)\n",
    "        pcd_variants.append(pcd_variant)\n",
    "    return pcd_variants"
   ]
  },
  {
   "cell_type": "code",
   "execution_count": 299,
   "metadata": {},
   "outputs": [],
   "source": [
    "pc_path = os.path.join('..','data','dataset','custom','train','heap.ply')\n",
    "num_variants = 10\n",
    "max_mode = \"max\" # \"max\" or \"min\"\n",
    "margin = 0.01 #between 0 and 1\n",
    "axis = 1\n",
    "pcd_variants = gen_pcd_variants(pc_path, num_variants, axis, max_mode, margin)"
   ]
  },
  {
   "cell_type": "code",
   "execution_count": 300,
   "metadata": {},
   "outputs": [],
   "source": [
    "dir_path = f\"{os.sep}\".join(pc_path.split(os.sep)[:-1])\n",
    "fname = pc_path.split(os.sep)[-1]\n",
    "for i in range(num_variants):\n",
    "    variant_fname = f\"{fname.split('.')[0]}_{i}.{fname.split('.')[1]}\"\n",
    "    save_path = os.path.join(dir_path, variant_fname)\n",
    "    o3d.io.write_point_cloud(save_path, pcd_variants[i])\n",
    "    # o3d.visualization.draw_geometries([pcd_variants[i]])"
   ]
  },
  {
   "cell_type": "markdown",
   "metadata": {},
   "source": [
    "# Paritioning into Existing and Missing"
   ]
  },
  {
   "cell_type": "code",
   "execution_count": 25,
   "metadata": {},
   "outputs": [],
   "source": [
    "class HyperPlane(object):\n",
    "\n",
    "    def __init__(self, params, bias):\n",
    "        self.params = params\n",
    "        self.bias = bias\n",
    "\n",
    "    def check_point(self, point):\n",
    "        return np.sign(np.dot(point, self.params) + self.bias)\n",
    "\n",
    "    @staticmethod\n",
    "    def get_plane_from_3_points(points):\n",
    "        cp = np.cross(points[1] - points[0], points[2] - points[0])\n",
    "        return HyperPlane(cp, np.dot(cp, points[0]))\n",
    "\n",
    "    @staticmethod\n",
    "    def get_random_plane():\n",
    "        return HyperPlane.get_plane_from_3_points(np.random.rand(3, 3))\n",
    "\n",
    "    def __str__(self):\n",
    "        return \"Plane A={}, B={}, C={}, D={}\".format(*self.params, self.bias)\n",
    "\n",
    "\n",
    "class SlicedDatasetGenerator(object):\n",
    "    @staticmethod\n",
    "    def generate_item(points, target_partition_points=1024):\n",
    "        while True:\n",
    "            under = HyperPlane.get_random_plane().check_point(points) > 0\n",
    "            points_under_plane = points[under]\n",
    "            points_above_plane = points[~under]\n",
    "            print(len(points), len(points_under_plane), len(points_under_plane))\n",
    "\n",
    "            if target_partition_points >= len(points_under_plane):\n",
    "                return points_under_plane, points_above_plane\n",
    "            if target_partition_points >= len(points_under_plane):\n",
    "                return points_above_plane, points_under_plane"
   ]
  },
  {
   "cell_type": "code",
   "execution_count": 15,
   "metadata": {},
   "outputs": [],
   "source": [
    "from utils.plyfile import quick_save_ply_file, load_ply\n",
    "\n",
    "pc_path = os.path.join('..','data','dataset','custom','train','heap.ply')\n",
    "# pcd = o3d.io.read_point_cloud(pc_path)\n",
    "# points = pcd.points\n",
    "points = load_ply(pc_path)"
   ]
  },
  {
   "cell_type": "code",
   "execution_count": 30,
   "metadata": {},
   "outputs": [
    {
     "name": "stdout",
     "output_type": "stream",
     "text": [
      "68274 45976 45976\n",
      "68274 9980 9980\n"
     ]
    }
   ],
   "source": [
    "existing, missing = SlicedDatasetGenerator.generate_item(points, target_partition_points=30000)"
   ]
  },
  {
   "cell_type": "code",
   "execution_count": 31,
   "metadata": {},
   "outputs": [],
   "source": [
    "quick_save_ply_file(existing, 'existing.ply')\n",
    "quick_save_ply_file(missing, 'missing.ply')"
   ]
  },
  {
   "cell_type": "code",
   "execution_count": null,
   "metadata": {},
   "outputs": [],
   "source": []
  }
 ],
 "metadata": {
  "interpreter": {
   "hash": "3791ab1f367e35806cd16f76b036a5d685685d81b7c1c68295fd30b1e69059e4"
  },
  "kernelspec": {
   "display_name": "Python 3.8.8  ('venv': venv)",
   "language": "python",
   "name": "python3"
  },
  "language_info": {
   "codemirror_mode": {
    "name": "ipython",
    "version": 3
   },
   "file_extension": ".py",
   "mimetype": "text/x-python",
   "name": "python",
   "nbconvert_exporter": "python",
   "pygments_lexer": "ipython3",
   "version": "3.7.11"
  },
  "metadata": {
   "interpreter": {
    "hash": "e5c09e82eeea23e1eb2e11af75129d90fb127b749361cdb6a70b02f2395b7223"
   }
  },
  "orig_nbformat": 2
 },
 "nbformat": 4,
 "nbformat_minor": 2
}
